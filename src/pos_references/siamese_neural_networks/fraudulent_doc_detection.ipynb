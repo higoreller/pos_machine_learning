{
 "cells": [
  {
   "cell_type": "code",
   "execution_count": 1,
   "metadata": {},
   "outputs": [
    {
     "name": "stderr",
     "output_type": "stream",
     "text": [
      "2022-08-05 17:56:25.863134: W tensorflow/stream_executor/platform/default/dso_loader.cc:64] Could not load dynamic library 'libcudart.so.11.0'; dlerror: libcudart.so.11.0: cannot open shared object file: No such file or directory\n",
      "2022-08-05 17:56:25.863170: I tensorflow/stream_executor/cuda/cudart_stub.cc:29] Ignore above cudart dlerror if you do not have a GPU set up on your machine.\n"
     ]
    }
   ],
   "source": [
    "import random\n",
    "import numpy as np\n",
    "import tensorflow as tf"
   ]
  },
  {
   "cell_type": "code",
   "execution_count": 2,
   "metadata": {},
   "outputs": [],
   "source": [
    "def createTemplate():\n",
    "      return tf.keras.models.Sequential([\n",
    "        tf.keras.layers.Flatten(),\n",
    "        tf.keras.layers.Dense(128, activation='relu'),\n",
    "        tf.keras.layers.Dropout(0.15),\n",
    "        tf.keras.layers.Dense(128, activation='relu'),\n",
    "        tf.keras.layers.Dropout(0.15),\n",
    "        tf.keras.layers.Dense(64, activation='relu'), \n",
    "        ])"
   ]
  },
  {
   "cell_type": "code",
   "execution_count": 3,
   "metadata": {},
   "outputs": [],
   "source": [
    "def prepareData(inputs: np.ndarray, labels: np.ndarray):\n",
    "      classesNumbers = 10\n",
    "      digitalIdx = [np.where(labels == i)[0] for i in range(classesNumbers)]\n",
    "      pairs = list()\n",
    "      labels = list()\n",
    "      n = min([len(digitalIdx[d]) for d in range(classesNumbers)]) - 1\n",
    "      for d in range(classesNumbers):\n",
    "        for i in range(n):\n",
    "            z1, z2 = digitalIdx[d][i], digitalIdx[d][i + 1]\n",
    "            pairs += [[inputs[z1], inputs[z2]]]\n",
    "            inc = random.randrange(1, classesNumbers)\n",
    "            dn = (d + inc) % classesNumbers\n",
    "            z1, z2 = digitalIdx[d][i], digitalIdx[dn][i]\n",
    "            pairs += [[inputs[z1], inputs[z2]]]\n",
    "            labels += [1, 0] \n",
    "      return np.array(pairs), np.array(labels, dtype=np.float32)"
   ]
  },
  {
   "cell_type": "code",
   "execution_count": 4,
   "metadata": {},
   "outputs": [
    {
     "name": "stdout",
     "output_type": "stream",
     "text": [
      "Downloading data from https://storage.googleapis.com/tensorflow/tf-keras-datasets/mnist.npz\n",
      "11490434/11490434 [==============================] - 1s 0us/step\n"
     ]
    }
   ],
   "source": [
    "(x_train, y_train), (x_test, y_test) = tf.keras.datasets.mnist.load_data()\n",
    "x_train = x_train.astype(np.float32)\n",
    "x_test = x_test.astype(np.float32)\n",
    "x_train /= 255\n",
    "x_test /= 255\n",
    "input_shape = x_train.shape[1:]\n",
    "train_pairs, tr_labels = prepareData(x_train, y_train)\n",
    "test_pairs, test_labels = prepareData(x_test, y_test)"
   ]
  },
  {
   "cell_type": "code",
   "execution_count": 5,
   "metadata": {},
   "outputs": [
    {
     "ename": "NameError",
     "evalue": "name 'base_network' is not defined",
     "output_type": "error",
     "traceback": [
      "\u001b[0;31m---------------------------------------------------------------------------\u001b[0m",
      "\u001b[0;31mNameError\u001b[0m                                 Traceback (most recent call last)",
      "\u001b[1;32m/home/higoreller/Development/machine_learning_projects/src/siamese_neural_networks/fraudulent_doc_detection.ipynb Cell 5\u001b[0m in \u001b[0;36m<cell line: 2>\u001b[0;34m()\u001b[0m\n\u001b[1;32m      <a href='vscode-notebook-cell://wsl%2Bubuntu-20.04/home/higoreller/Development/machine_learning_projects/src/siamese_neural_networks/fraudulent_doc_detection.ipynb#W4sdnNjb2RlLXJlbW90ZQ%3D%3D?line=0'>1</a>\u001b[0m input_a \u001b[39m=\u001b[39m tf\u001b[39m.\u001b[39mkeras\u001b[39m.\u001b[39mlayers\u001b[39m.\u001b[39mInput(shape\u001b[39m=\u001b[39minput_shape)\n\u001b[0;32m----> <a href='vscode-notebook-cell://wsl%2Bubuntu-20.04/home/higoreller/Development/machine_learning_projects/src/siamese_neural_networks/fraudulent_doc_detection.ipynb#W4sdnNjb2RlLXJlbW90ZQ%3D%3D?line=1'>2</a>\u001b[0m enconder1 \u001b[39m=\u001b[39m base_network(input_a)\n\u001b[1;32m      <a href='vscode-notebook-cell://wsl%2Bubuntu-20.04/home/higoreller/Development/machine_learning_projects/src/siamese_neural_networks/fraudulent_doc_detection.ipynb#W4sdnNjb2RlLXJlbW90ZQ%3D%3D?line=2'>3</a>\u001b[0m input_b \u001b[39m=\u001b[39m tf\u001b[39m.\u001b[39mkeras\u001b[39m.\u001b[39mlayers\u001b[39m.\u001b[39mInput(shape\u001b[39m=\u001b[39minput_shape)\n\u001b[1;32m      <a href='vscode-notebook-cell://wsl%2Bubuntu-20.04/home/higoreller/Development/machine_learning_projects/src/siamese_neural_networks/fraudulent_doc_detection.ipynb#W4sdnNjb2RlLXJlbW90ZQ%3D%3D?line=3'>4</a>\u001b[0m enconder2 \u001b[39m=\u001b[39m base_network(input_b)\n",
      "\u001b[0;31mNameError\u001b[0m: name 'base_network' is not defined"
     ]
    }
   ],
   "source": [
    "input_a = tf.keras.layers.Input(shape=input_shape)\n",
    "enconder1 = base_network(input_a)\n",
    "input_b = tf.keras.layers.Input(shape=input_shape)\n",
    "enconder2 = base_network(input_b)"
   ]
  },
  {
   "cell_type": "code",
   "execution_count": 6,
   "metadata": {},
   "outputs": [
    {
     "ename": "NameError",
     "evalue": "name 'enconder1' is not defined",
     "output_type": "error",
     "traceback": [
      "\u001b[0;31m---------------------------------------------------------------------------\u001b[0m",
      "\u001b[0;31mNameError\u001b[0m                                 Traceback (most recent call last)",
      "\u001b[1;32m/home/higoreller/Development/machine_learning_projects/src/siamese_neural_networks/fraudulent_doc_detection.ipynb Cell 6\u001b[0m in \u001b[0;36m<cell line: 1>\u001b[0;34m()\u001b[0m\n\u001b[1;32m      <a href='vscode-notebook-cell://wsl%2Bubuntu-20.04/home/higoreller/Development/machine_learning_projects/src/siamese_neural_networks/fraudulent_doc_detection.ipynb#W5sdnNjb2RlLXJlbW90ZQ%3D%3D?line=0'>1</a>\u001b[0m distance \u001b[39m=\u001b[39m tf\u001b[39m.\u001b[39mkeras\u001b[39m.\u001b[39mlayers\u001b[39m.\u001b[39mLambda( \n\u001b[0;32m----> <a href='vscode-notebook-cell://wsl%2Bubuntu-20.04/home/higoreller/Development/machine_learning_projects/src/siamese_neural_networks/fraudulent_doc_detection.ipynb#W5sdnNjb2RlLXJlbW90ZQ%3D%3D?line=1'>2</a>\u001b[0m     \u001b[39mlambda\u001b[39;00m embeddings: tf\u001b[39m.\u001b[39mkeras\u001b[39m.\u001b[39mbackend\u001b[39m.\u001b[39mabs(embeddings[\u001b[39m0\u001b[39m] \u001b[39m-\u001b[39m embeddings[\u001b[39m1\u001b[39m])) ([enconder1, enconder2])\n\u001b[1;32m      <a href='vscode-notebook-cell://wsl%2Bubuntu-20.04/home/higoreller/Development/machine_learning_projects/src/siamese_neural_networks/fraudulent_doc_detection.ipynb#W5sdnNjb2RlLXJlbW90ZQ%3D%3D?line=2'>3</a>\u001b[0m measureOfSimilarity \u001b[39m=\u001b[39m tf\u001b[39m.\u001b[39mkeras\u001b[39m.\u001b[39mlayers\u001b[39m.\u001b[39mDense(\u001b[39m1\u001b[39m, activation\u001b[39m=\u001b[39m\u001b[39m'\u001b[39m\u001b[39msigmoid\u001b[39m\u001b[39m'\u001b[39m) (distance)\n",
      "\u001b[0;31mNameError\u001b[0m: name 'enconder1' is not defined"
     ]
    }
   ],
   "source": [
    "distance = tf.keras.layers.Lambda( \n",
    "    lambda embeddings: tf.keras.backend.abs(embeddings[0] - embeddings[1])) ([enconder1, enconder2])\n",
    "measureOfSimilarity = tf.keras.layers.Dense(1, activation='sigmoid') (distance)"
   ]
  }
 ],
 "metadata": {
  "kernelspec": {
   "display_name": "Python 3.8.10 ('venv': venv)",
   "language": "python",
   "name": "python3"
  },
  "language_info": {
   "codemirror_mode": {
    "name": "ipython",
    "version": 3
   },
   "file_extension": ".py",
   "mimetype": "text/x-python",
   "name": "python",
   "nbconvert_exporter": "python",
   "pygments_lexer": "ipython3",
   "version": "3.8.10"
  },
  "orig_nbformat": 4,
  "vscode": {
   "interpreter": {
    "hash": "9e30850482e91f391acfb7d3b20f9f1af730446116be3c3155078f1852773679"
   }
  }
 },
 "nbformat": 4,
 "nbformat_minor": 2
}
